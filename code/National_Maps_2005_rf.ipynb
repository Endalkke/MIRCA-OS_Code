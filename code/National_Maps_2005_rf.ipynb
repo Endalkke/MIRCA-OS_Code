{
 "cells": [
  {
   "cell_type": "code",
   "execution_count": 1,
   "id": "7e6a8474",
   "metadata": {},
   "outputs": [],
   "source": [
    "import os\n",
    "import arcpy\n",
    "from arcpy.sa import *\n",
    "from arcpy import env"
   ]
  },
  {
   "cell_type": "code",
   "execution_count": 2,
   "id": "32b0c0df",
   "metadata": {},
   "outputs": [],
   "source": [
    "# Set the workspace and output directory\n",
    "env.workspace = r\"D:\\\\PhD_Udel\\\\MICRA_2015\\\\DOwnscaling\\\\India\\With HYDE CE\\\\With Piyush Shapefile\\\\Maps_2000\\\\District\\\\Rainfed\"\n",
    "output_dir = r\"D:\\\\PhD_Udel\\\\MICRA_2015\\\\DOwnscaling\\\\India\\\\With HYDE CE\\\\With Piyush Shapefile\\\\Maps_2000\\\\National Maps\\\\Rainfed\"\n",
    "\n",
    "# List all rasters in the workspace\n",
    "rasters = arcpy.ListRasters()\n",
    "\n",
    "# Create a dictionary to group rasters by crop name and planting month\n",
    "raster_dict = {}\n",
    "for raster in rasters:\n",
    "    crop, unit, ir, planting_month = raster.split(\"_\")\n",
    "    if (crop, planting_month) not in raster_dict:\n",
    "        raster_dict[(crop, planting_month)] = [raster]\n",
    "    else:\n",
    "        raster_dict[(crop, planting_month)].append(raster)\n",
    "\n",
    "# Mosaic rasters by crop name and planting month\n",
    "for key in raster_dict:\n",
    "    crop, planting_month = key\n",
    "    rasters_to_mosaic = raster_dict[key]\n",
    "    output_raster = \"{}_{}.tif\".format(crop, planting_month)\n",
    "    arcpy.MosaicToNewRaster_management(rasters_to_mosaic, output_dir, output_raster, \n",
    "                                       number_of_bands=1, pixel_type=\"16_BIT_SIGNED\", \n",
    "                                       mosaic_colormap_mode=\"FIRST\")\n",
    "\n"
   ]
  },
  {
   "cell_type": "code",
   "execution_count": null,
   "id": "49b18a7f",
   "metadata": {},
   "outputs": [],
   "source": []
  },
  {
   "cell_type": "code",
   "execution_count": null,
   "id": "5777998c",
   "metadata": {},
   "outputs": [],
   "source": []
  },
  {
   "cell_type": "code",
   "execution_count": null,
   "id": "259fd5fd",
   "metadata": {},
   "outputs": [],
   "source": []
  }
 ],
 "metadata": {
  "kernelspec": {
   "display_name": "Python 3 (ipykernel)",
   "language": "python",
   "name": "python3"
  },
  "language_info": {
   "codemirror_mode": {
    "name": "ipython",
    "version": 3
   },
   "file_extension": ".py",
   "mimetype": "text/x-python",
   "name": "python",
   "nbconvert_exporter": "python",
   "pygments_lexer": "ipython3",
   "version": "3.9.11"
  }
 },
 "nbformat": 4,
 "nbformat_minor": 5
}

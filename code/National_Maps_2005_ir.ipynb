{
 "cells": [
  {
   "cell_type": "code",
   "execution_count": 1,
   "id": "7a6b5488",
   "metadata": {},
   "outputs": [],
   "source": [
    "import os\n",
    "import arcpy\n",
    "from arcpy.sa import *\n",
    "from arcpy import env\n",
    "import numpy as np"
   ]
  },
  {
   "cell_type": "code",
   "execution_count": 6,
   "id": "a6a8b0b5",
   "metadata": {},
   "outputs": [],
   "source": [
    "import arcpy\n",
    "import numpy as np\n",
    "import os\n",
    "import tempfile\n",
    "\n",
    "# Set the workspace and output directory\n",
    "env.workspace = r\"D:\\\\PhD_Udel\\\\MICRA_2015\\\\DOwnscaling\\\\India\\\\MIRCA 2000 Replication\\\\Maps\\\\Short\\\\Irrigated\"\n",
    "output_dir =r\"D:\\\\PhD_Udel\\\\MICRA_2015\\\\DOwnscaling\\\\India\\\\MIRCA 2000 Replication\\Maps\\\\Short\\\\National Maps2\\\\Irrigated\"\n",
    "\n",
    "\n",
    "# List all rasters in the workspace\n",
    "rasters = arcpy.ListRasters()\n",
    "\n",
    "# Create a dictionary to group rasters by crop name and planting month\n",
    "raster_dict = {}\n",
    "for raster in rasters:\n",
    "    crop, unit, ir, planting_month = raster.split(\"_\")\n",
    "    if (crop, planting_month) not in raster_dict:\n",
    "        raster_dict[(crop, planting_month)] = [raster]\n",
    "    else:\n",
    "        raster_dict[(crop, planting_month)].append(raster)\n",
    "\n",
    "# Mosaic rasters by crop name and planting month\n",
    "for key in raster_dict:\n",
    "    crop, planting_month = key\n",
    "    rasters_to_mosaic = raster_dict[key]\n",
    "    output_raster = \"{}_{}.tif\".format(crop, planting_month)\n",
    "    arcpy.MosaicToNewRaster_management(rasters_to_mosaic, output_dir, output_raster, \n",
    "                                       number_of_bands=1, pixel_type=\"16_BIT_SIGNED\", \n",
    "                                       mosaic_colormap_mode=\"FIRST\")\n",
    "\n"
   ]
  },
  {
   "cell_type": "code",
   "execution_count": null,
   "id": "8043b59f",
   "metadata": {},
   "outputs": [],
   "source": []
  }
 ],
 "metadata": {
  "kernelspec": {
   "display_name": "Python 3 (ipykernel)",
   "language": "python",
   "name": "python3"
  },
  "language_info": {
   "codemirror_mode": {
    "name": "ipython",
    "version": 3
   },
   "file_extension": ".py",
   "mimetype": "text/x-python",
   "name": "python",
   "nbconvert_exporter": "python",
   "pygments_lexer": "ipython3",
   "version": "3.9.11"
  }
 },
 "nbformat": 4,
 "nbformat_minor": 5
}
